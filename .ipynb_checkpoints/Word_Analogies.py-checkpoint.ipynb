{
 "cells": [
  {
   "cell_type": "code",
   "execution_count": null,
   "metadata": {},
   "outputs": [],
   "source": [
    "import genism\n",
    "import numpy as np\n",
    "from genism.models import Word2Vec\n",
    "from genism.models import KeyedVector\n",
    "from sklearn.metrics.pairwise import cosine_similarity"
   ]
  },
  {
   "cell_type": "code",
   "execution_count": null,
   "metadata": {},
   "outputs": [],
   "source": [
    "word_vectors=KeyedVector.load_word2vec_format(\"Google-News\")"
   ]
  },
  {
   "cell_type": "markdown",
   "metadata": {},
   "source": [
    "### Creating Our Own Function"
   ]
  },
  {
   "cell_type": "code",
   "execution_count": null,
   "metadata": {},
   "outputs": [],
   "source": [
    "def predict_word(a,b,c,word_vec):\n",
    "    \"\"\"Accepts a triad and returns a analogy\"\"\"\n",
    "    a,b,c=a.lower(),b.lower(),c.lower()\n",
    "    # similarity |b-a|=|c-d|\n",
    "    max_similarity=-100\n",
    "    d=None\n",
    "    wa,wb,wc=word_vec[a],word_vec[b],word_vec[c]\n",
    "    words=word_vec.vocab.keys()\n",
    "    \n",
    "    for w in words:\n",
    "        if w in [a,b,c]:\n",
    "            continue\n",
    "        wv=word_vec[w]\n",
    "        sim=cosine_similarity([wb-wa],[wv-wc])\n",
    "        if sim>max_similarity:\n",
    "            max_similarity=sim\n",
    "            d=w\n",
    "    return d"
   ]
  },
  {
   "cell_type": "code",
   "execution_count": null,
   "metadata": {},
   "outputs": [],
   "source": [
    "triad=(\"man\",\"women\",\"prince\")\n",
    "predict_word(*triad,word_vectors)"
   ]
  },
  {
   "cell_type": "markdown",
   "metadata": {},
   "source": [
    "### Method 2 -  Using In Built Method Of Word vectors"
   ]
  },
  {
   "cell_type": "code",
   "execution_count": null,
   "metadata": {},
   "outputs": [],
   "source": [
    "word_vectors.most_similar(positive=['women','king'],negative=['man'],topn=1) # Vd=Vb-Va+Vc"
   ]
  },
  {
   "cell_type": "markdown",
   "metadata": {},
   "source": [
    "### Training Customized Word2vec Model - \"Bollywood News\""
   ]
  },
  {
   "cell_type": "code",
   "execution_count": null,
   "metadata": {},
   "outputs": [],
   "source": [
    "import nltk\n",
    "import nltk.corpus import stopwords"
   ]
  },
  {
   "cell_type": "code",
   "execution_count": null,
   "metadata": {},
   "outputs": [],
   "source": [
    "def readFile(path):\n",
    "    f=open(path,'r',encodings='utf-8')\n",
    "    text=f.read()\n",
    "    data=[]\n",
    "    sentences=nltk.sent_tokenize(text)\n",
    "    for sent in sentences:\n",
    "        words=nltk.word_tokenize(sent)\n",
    "        word_list=[w.lower() for w in words if len(w)>2 and w not in set(stopwords.words(\"english\"))]\n",
    "        data.append(word_list)\n",
    "    return data"
   ]
  },
  {
   "cell_type": "code",
   "execution_count": null,
   "metadata": {},
   "outputs": [],
   "source": [
    "text=readFile() # add the path as arguement"
   ]
  },
  {
   "cell_type": "code",
   "execution_count": null,
   "metadata": {},
   "outputs": [],
   "source": [
    "model=Word2Vec(text,size=300,window=10,alpha=0.025)"
   ]
  },
  {
   "cell_type": "code",
   "execution_count": null,
   "metadata": {},
   "outputs": [],
   "source": [
    "words=list(model.wv.vocab)"
   ]
  },
  {
   "cell_type": "code",
   "execution_count": null,
   "metadata": {},
   "outputs": [],
   "source": [
    "def predict_actor(a,b,c,word_list,word_vec):\n",
    "    \"\"\"Accepts triad and a word list return the analogy\"\"\"\n",
    "    a,b,c=a.lower(),b.lower(),c.lower()\n",
    "    # similarity |b-a|=|c-d|\n",
    "    max_similarity=-100\n",
    "    d=None\n",
    "    wa,wb,wc=word_vec[a],word_vec[b],word_vec[c]\n",
    "    \n",
    "    for w in word_list:\n",
    "        if w in [a,b,c]:\n",
    "            continue\n",
    "        wv=word_vec[w]\n",
    "        sim=cosine_similarity([wb-wa],[wv-wc])\n",
    "        if sim>max_similarity:\n",
    "            max_similarity=sim\n",
    "            d=w\n",
    "    return d"
   ]
  },
  {
   "cell_type": "code",
   "execution_count": null,
   "metadata": {},
   "outputs": [],
   "source": [
    "triad=(\"deepika\",\"ranveer\",\"priyanka\")\n",
    "predict_actor(*triad,words,model.wv)"
   ]
  }
 ],
 "metadata": {
  "kernelspec": {
   "display_name": "Python 3",
   "language": "python",
   "name": "python3"
  },
  "language_info": {
   "codemirror_mode": {
    "name": "ipython",
    "version": 3
   },
   "file_extension": ".py",
   "mimetype": "text/x-python",
   "name": "python",
   "nbconvert_exporter": "python",
   "pygments_lexer": "ipython3",
   "version": "3.7.6"
  }
 },
 "nbformat": 4,
 "nbformat_minor": 4
}
