{
 "cells": [
  {
   "cell_type": "code",
   "execution_count": null,
   "metadata": {},
   "outputs": [],
   "source": [
    "import gensim  # first download the model genism\n",
    "import numpy as np\n",
    "from gensim.models import Word2Vec\n",
    "from gensim.models import KeyedVector\n",
    "from sklearn.metrics.pairwise import cosine_similarity"
   ]
  },
  {
   "cell_type": "code",
   "execution_count": null,
   "metadata": {},
   "outputs": [],
   "source": [
    "word_vectors=KeyedVector.load_word2vec_format(\"GoogleNews-vectors-ngative300.bin\",binary=True)\n",
    "## KeyedVector - It acts as a mapping between word and embeddings(vectors)"
   ]
  },
  {
   "cell_type": "code",
   "execution_count": null,
   "metadata": {},
   "outputs": [],
   "source": [
    "v_apple=word_vectors['apple'] ## \"Apple\" and \"apple are two different things.\"\n",
    "v_mango=word_vectors['mango']\n",
    "print(cosine_similarity([v_apple],[v_mango]))\n",
    "print(v_apple.shape,v_mango.shape)"
   ]
  },
  {
   "cell_type": "code",
   "execution_count": null,
   "metadata": {},
   "outputs": [],
   "source": [
    "def odd_one_out(words,word_vector):\n",
    "    \"\"\"Accepts a list of words and return an odd one out of them on the basis of average vector.\"\"\"\n",
    "    #vectors=[word_vector[w] for w in words] use this method and then get index and then word.\n",
    "    average_vec=np.mean(vectors,axis=0)  # creates an average vector.\n",
    "    min_similarity=100  # initialize with any high value.\n",
    "    odd_one=None\n",
    "    for word in words:\n",
    "        sim=cosine_similarity([word_vector[word]],[average_vec])\n",
    "        if sim < min_similarity:\n",
    "            min_similarity=sim\n",
    "            odd_one=word\n",
    "        print(\"Similarity between %s and Average vector is %.2f\"%(word,sim))   \n",
    "    return odd_one"
   ]
  },
  {
   "cell_type": "code",
   "execution_count": null,
   "metadata": {},
   "outputs": [],
   "source": [
    "## Testing the Model\n",
    "input_1=['apple','mango','juice','party','orange']  # Answer should be party.\n",
    "input_2=['music','dance','sleep','dancer','food']  # Answer should be sleep.\n",
    "input_3=['match','player','football','cricket','dancer']  # Answer should be dancer.\n",
    "input_4=['india','paris','russia','france','germany']  # Answer should be paris as it is a city rest are countries."
   ]
  },
  {
   "cell_type": "code",
   "execution_count": null,
   "metadata": {},
   "outputs": [],
   "source": []
  },
  {
   "cell_type": "code",
   "execution_count": null,
   "metadata": {},
   "outputs": [],
   "source": []
  },
  {
   "cell_type": "code",
   "execution_count": null,
   "metadata": {},
   "outputs": [],
   "source": []
  },
  {
   "cell_type": "code",
   "execution_count": null,
   "metadata": {},
   "outputs": [],
   "source": []
  }
 ],
 "metadata": {
  "kernelspec": {
   "display_name": "Python 3",
   "language": "python",
   "name": "python3"
  },
  "language_info": {
   "codemirror_mode": {
    "name": "ipython",
    "version": 3
   },
   "file_extension": ".py",
   "mimetype": "text/x-python",
   "name": "python",
   "nbconvert_exporter": "python",
   "pygments_lexer": "ipython3",
   "version": "3.7.6"
  }
 },
 "nbformat": 4,
 "nbformat_minor": 4
}
